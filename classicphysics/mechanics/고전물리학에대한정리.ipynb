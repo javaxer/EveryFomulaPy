{
 "cells": [
  {
   "cell_type": "code",
   "execution_count": 1,
   "metadata": {},
   "outputs": [
    {
     "name": "stdout",
     "output_type": "stream",
     "text": [
      "이것은 뉴튼 함수의 추상 클래스입니다.\n"
     ]
    }
   ],
   "source": [
    "import newton\n",
    "\n",
    "n1 = newton.Newton()\n",
    "n1.help()"
   ]
  },
  {
   "cell_type": "code",
   "execution_count": null,
   "metadata": {},
   "outputs": [
    {
     "name": "stdout",
     "output_type": "stream",
     "text": [
      "기준에 대한 원시 클래스\n",
      "1미터(m)는 진공 속에서 빛이 1/299,792,458초 동안 진행한 거리이다.\n",
      "10.0 m\n",
      "1초(sec)는 세슘 원자로 부터 방축되는 복사 진동주기의 9,1,92,631,770배이다\n",
      "1킬로그램(kg)은 프랑스 국제 도량형국에 보관되어 있는 특정한 백금-이리듐합금 실린더로 정의된다.\n",
      "10.0 kg\n"
     ]
    }
   ],
   "source": [
    "import measurement\n",
    "\n",
    "s1 = measurement.Standard(0.0)\n",
    "s1.get_definition()\n",
    "\n",
    "len1 = measurement.Length(0.0)\n",
    "len1.get_definition()\n",
    "len1.set(10.0)\n",
    "print(len1.get(), 'm')\n",
    "\n",
    "\n",
    "길이1 = measurement.길이(0.0)\n",
    "길이1.정의()\n",
    "\n",
    "mass1 = measurement.Mass(0.0)\n",
    "mass1.get_definition()\n",
    "mass1.set(10.0)\n",
    "print(mass1.get(),'kg')\n",
    "\n",
    "vol1 = measurement.Volume()\n",
    "vol1.get_square_volume(len1)"
   ]
  },
  {
   "cell_type": "code",
   "execution_count": null,
   "metadata": {
    "collapsed": true
   },
   "outputs": [],
   "source": [
    "\n",
    "\n",
    "\n",
    "\n",
    "\n"
   ]
  },
  {
   "cell_type": "code",
   "execution_count": null,
   "metadata": {
    "collapsed": true
   },
   "outputs": [],
   "source": []
  }
 ],
 "metadata": {
  "kernelspec": {
   "display_name": "Python 3",
   "language": "python",
   "name": "python3"
  },
  "language_info": {
   "codemirror_mode": {
    "name": "ipython",
    "version": 3
   },
   "file_extension": ".py",
   "mimetype": "text/x-python",
   "name": "python",
   "nbconvert_exporter": "python",
   "pygments_lexer": "ipython3",
   "version": "3.6.2"
  }
 },
 "nbformat": 4,
 "nbformat_minor": 1
}
