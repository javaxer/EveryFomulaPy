{
 "cells": [
  {
   "cell_type": "code",
   "execution_count": 12,
   "metadata": {},
   "outputs": [
    {
     "name": "stdout",
     "output_type": "stream",
     "text": [
      "이것은 뉴튼 함수의 추상 클래스입니다.\n"
     ]
    }
   ],
   "source": [
    "import newton\n",
    "\n",
    "n1 = newton.Newton()\n",
    "n1.help()"
   ]
  },
  {
   "cell_type": "code",
   "execution_count": 15,
   "metadata": {},
   "outputs": [
    {
     "ename": "SyntaxError",
     "evalue": "EOF while scanning triple-quoted string literal (<ipython-input-15-9c2c97729382>, line 20)",
     "output_type": "error",
     "traceback": [
      "\u001b[0;36m  File \u001b[0;32m\"<ipython-input-15-9c2c97729382>\"\u001b[0;36m, line \u001b[0;32m20\u001b[0m\n\u001b[0;31m    #vol1.get_square_volume(len1)\u001b[0m\n\u001b[0m                                 \n^\u001b[0m\n\u001b[0;31mSyntaxError\u001b[0m\u001b[0;31m:\u001b[0m EOF while scanning triple-quoted string literal\n"
     ]
    }
   ],
   "source": [
    "import measurement\n",
    "\n",
    "s1 = measurement.Standard()\n",
    "s1.get_definition()\n",
    "\n",
    "len1 = measurement.Length()\n",
    "len1.getdefinition()\n",
    "len1.set(10.0)\n",
    "print(len1.get())\n",
    "\n",
    "'''길이1 = measurement.길이()\n",
    "길이1.정의()\n",
    "\n",
    "mass1 = measurement.Mass()\n",
    "mass1.getdefinition()\n",
    "mass1.set(10.0)\n",
    "print(mass1.get())\n",
    "\n",
    "vol1 = measurement.Volume()\n",
    "#vol1.get_square_volume(len1)"
   ]
  },
  {
   "cell_type": "code",
   "execution_count": null,
   "metadata": {},
   "outputs": [],
   "source": []
  },
  {
   "cell_type": "code",
   "execution_count": null,
   "metadata": {},
   "outputs": [],
   "source": []
  }
 ],
 "metadata": {
  "kernelspec": {
   "display_name": "Python 3",
   "language": "python",
   "name": "python3"
  },
  "language_info": {
   "codemirror_mode": {
    "name": "ipython",
    "version": 3
   },
   "file_extension": ".py",
   "mimetype": "text/x-python",
   "name": "python",
   "nbconvert_exporter": "python",
   "pygments_lexer": "ipython3",
   "version": "3.5.2"
  }
 },
 "nbformat": 4,
 "nbformat_minor": 1
}
