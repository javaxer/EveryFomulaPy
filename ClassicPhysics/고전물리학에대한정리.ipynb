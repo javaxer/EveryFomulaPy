{
 "cells": [
  {
   "cell_type": "code",
   "execution_count": null,
   "metadata": {},
   "outputs": [],
   "source": [
    "import newton\n",
    "\n",
    "n1 = newton.Newton()\n",
    "n1.help()"
   ]
  },
  {
   "cell_type": "code",
   "execution_count": 18,
   "metadata": {},
   "outputs": [
    {
     "name": "stdout",
     "output_type": "stream",
     "text": [
      "1미터(m)는 진공 속에서 빛이 1/299,792,458초 동안 진행한 거리이다.\n",
      "10.0\n"
     ]
    },
    {
     "ename": "AttributeError",
     "evalue": "module 'standard' has no attribute '길이'",
     "output_type": "error",
     "traceback": [
      "\u001b[0;31m---------------------------------------------------------------------------\u001b[0m",
      "\u001b[0;31mAttributeError\u001b[0m                            Traceback (most recent call last)",
      "\u001b[0;32m<ipython-input-18-dadb68bb7425>\u001b[0m in \u001b[0;36m<module>\u001b[0;34m()\u001b[0m\n\u001b[1;32m      9\u001b[0m \u001b[0mprint\u001b[0m\u001b[0;34m(\u001b[0m\u001b[0mlen1\u001b[0m\u001b[0;34m.\u001b[0m\u001b[0mget\u001b[0m\u001b[0;34m(\u001b[0m\u001b[0;34m)\u001b[0m\u001b[0;34m)\u001b[0m\u001b[0;34m\u001b[0m\u001b[0m\n\u001b[1;32m     10\u001b[0m \u001b[0;34m\u001b[0m\u001b[0m\n\u001b[0;32m---> 11\u001b[0;31m \u001b[0m길이1\u001b[0m \u001b[0;34m=\u001b[0m \u001b[0mstandard\u001b[0m\u001b[0;34m.\u001b[0m\u001b[0m길이\u001b[0m\u001b[0;34m(\u001b[0m\u001b[0;34m)\u001b[0m\u001b[0;34m\u001b[0m\u001b[0m\n\u001b[0m\u001b[1;32m     12\u001b[0m \u001b[0m길이1\u001b[0m\u001b[0;34m.\u001b[0m\u001b[0m정의\u001b[0m\u001b[0;34m(\u001b[0m\u001b[0;34m)\u001b[0m\u001b[0;34m\u001b[0m\u001b[0m\n\u001b[1;32m     13\u001b[0m \u001b[0;34m\u001b[0m\u001b[0m\n",
      "\u001b[0;31mAttributeError\u001b[0m: module 'standard' has no attribute '길이'"
     ]
    }
   ],
   "source": [
    "import standard\n",
    "\n",
    "s1 = standard.Standard()\n",
    "s1.getdefinition()\n",
    "\n",
    "len1 = standard.Length()\n",
    "len1.getdefinition()\n",
    "len1.set(10.0)\n",
    "print(len1.get())\n",
    "\n",
    "길이1 = standard.길이()\n",
    "길이1.정의()\n",
    "\n",
    "mass1 = standard.Mass()\n",
    "mass1.getdefinition()\n",
    "mass1.set(10.0)\n",
    "print(mass1.get())\n",
    "\n",
    "vol1 = standard.Volume()\n",
    "#vol1.get_square_volume(len1)"
   ]
  },
  {
   "cell_type": "code",
   "execution_count": null,
   "metadata": {},
   "outputs": [],
   "source": []
  },
  {
   "cell_type": "code",
   "execution_count": null,
   "metadata": {},
   "outputs": [],
   "source": []
  },
  {
   "cell_type": "code",
   "execution_count": null,
   "metadata": {},
   "outputs": [],
   "source": []
  }
 ],
 "metadata": {
  "kernelspec": {
   "display_name": "Python 3",
   "language": "python",
   "name": "python3"
  },
  "language_info": {
   "codemirror_mode": {
    "name": "ipython",
    "version": 3
   },
   "file_extension": ".py",
   "mimetype": "text/x-python",
   "name": "python",
   "nbconvert_exporter": "python",
   "pygments_lexer": "ipython3",
   "version": "3.5.2"
  }
 },
 "nbformat": 4,
 "nbformat_minor": 1
}
